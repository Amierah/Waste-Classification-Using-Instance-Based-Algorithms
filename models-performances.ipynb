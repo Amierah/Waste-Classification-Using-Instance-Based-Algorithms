{
 "cells": [
  {
   "cell_type": "code",
   "execution_count": 1,
   "metadata": {},
   "outputs": [],
   "source": [
    "%matplotlib inline\n",
    "import os\n",
    "import numpy as np \n",
    "import cv2\n",
    "import matplotlib.pyplot as plt\n",
    "import pickle\n",
    "import random\n",
    "from time import time\n",
    "import logging\n",
    "from sklearn.model_selection import train_test_split\n",
    "from sklearn.model_selection import GridSearchCV\n",
    "from sklearn.svm import SVC\n",
    "from sklearn.metrics import roc_curve\n",
    "from sklearn.datasets import load_wine\n",
    "from sklearn.neighbors import KNeighborsClassifier\n",
    "from sklearn.metrics import precision_recall_curve\n",
    "#from sklearn.metrics import plot_precision_recall_curve\n",
    "from sklearn.metrics import precision_score\n",
    "from sklearn.metrics import recall_score\n",
    "from sklearn. metrics import f1_score\n",
    "from sklearn.datasets import fetch_lfw_people\n",
    "from sklearn.metrics import classification_report\n",
    "from sklearn.metrics import confusion_matrix\n",
    "from sklearn import metrics\n",
    "from tabulate import tabulate"
   ]
  },
  {
   "cell_type": "code",
   "execution_count": null,
   "metadata": {},
   "outputs": [],
   "source": [
    "dir = 'C:\\\\Users\\\\User10\\\\Desktop\\\\BITU 3973 PSM 1\\\\Waste Classification Using Instance-Based Algorithm\\\\WASTE IMAGE DATASET'\n",
    "\n",
    "categories = ['O','R'] # 0 is O and 1 is R\n",
    "\n",
    "data = []\n",
    "\n",
    "for category in categories:\n",
    "    path = os.path.join(dir,category)\n",
    "    label = categories.index(category) # get zero and one (distinguish O and R)\n",
    "    \n",
    "    for img in os.listdir(path):\n",
    "        imgpath = os.path.join(path,img)\n",
    "        waste_image = cv2.imread(imgpath,0) # value 0 is to turn image into grayscale\n",
    "        try:\n",
    "            waste_image = cv2.resize(waste_image,(50,50)) # make all images same size\n",
    "            image = np.array(waste_image).flatten() # make full image single area\n",
    "            data.append([image,label]) # append image and label\n",
    "        except Exception as e:\n",
    "            pass"
   ]
  },
  {
   "cell_type": "code",
   "execution_count": 2,
   "metadata": {},
   "outputs": [
    {
     "ename": "NameError",
     "evalue": "name 'data' is not defined",
     "output_type": "error",
     "traceback": [
      "\u001b[1;31m---------------------------------------------------------------------------\u001b[0m",
      "\u001b[1;31mNameError\u001b[0m                                 Traceback (most recent call last)",
      "\u001b[1;32m<ipython-input-2-c5058f3f658c>\u001b[0m in \u001b[0;36m<module>\u001b[1;34m\u001b[0m\n\u001b[0;32m      1\u001b[0m \u001b[0mpick_in\u001b[0m \u001b[1;33m=\u001b[0m \u001b[0mopen\u001b[0m\u001b[1;33m(\u001b[0m\u001b[1;34m'data.pickle'\u001b[0m\u001b[1;33m,\u001b[0m\u001b[1;34m'wb'\u001b[0m\u001b[1;33m)\u001b[0m \u001b[1;31m# create pickle to save data, wb means write\u001b[0m\u001b[1;33m\u001b[0m\u001b[1;33m\u001b[0m\u001b[0m\n\u001b[1;32m----> 2\u001b[1;33m \u001b[0mpickle\u001b[0m\u001b[1;33m.\u001b[0m\u001b[0mdump\u001b[0m\u001b[1;33m(\u001b[0m\u001b[0mdata\u001b[0m\u001b[1;33m,\u001b[0m\u001b[0mpick_in\u001b[0m\u001b[1;33m)\u001b[0m \u001b[1;31m# dump data in pick_in\u001b[0m\u001b[1;33m\u001b[0m\u001b[1;33m\u001b[0m\u001b[0m\n\u001b[0m\u001b[0;32m      3\u001b[0m \u001b[0mpick_in\u001b[0m\u001b[1;33m.\u001b[0m\u001b[0mclose\u001b[0m\u001b[1;33m(\u001b[0m\u001b[1;33m)\u001b[0m \u001b[1;31m# close the pickle\u001b[0m\u001b[1;33m\u001b[0m\u001b[1;33m\u001b[0m\u001b[0m\n",
      "\u001b[1;31mNameError\u001b[0m: name 'data' is not defined"
     ]
    }
   ],
   "source": [
    "pick_in = open('data.pickle','wb') # create pickle to save data, wb means write\n",
    "pickle.dump(data,pick_in) # dump data in pick_in\n",
    "pick_in.close() # close the pickle"
   ]
  },
  {
   "cell_type": "code",
   "execution_count": 5,
   "metadata": {},
   "outputs": [
    {
     "ename": "EOFError",
     "evalue": "Ran out of input",
     "output_type": "error",
     "traceback": [
      "\u001b[1;31m---------------------------------------------------------------------------\u001b[0m",
      "\u001b[1;31mEOFError\u001b[0m                                  Traceback (most recent call last)",
      "\u001b[1;32m<ipython-input-5-ad62d93f7e13>\u001b[0m in \u001b[0;36m<module>\u001b[1;34m\u001b[0m\n\u001b[0;32m      1\u001b[0m \u001b[0mpick_in\u001b[0m \u001b[1;33m=\u001b[0m \u001b[0mopen\u001b[0m\u001b[1;33m(\u001b[0m\u001b[1;34m'data.pickle'\u001b[0m\u001b[1;33m,\u001b[0m\u001b[1;34m'rb'\u001b[0m\u001b[1;33m)\u001b[0m \u001b[1;31m# read pickle file\u001b[0m\u001b[1;33m\u001b[0m\u001b[1;33m\u001b[0m\u001b[0m\n\u001b[1;32m----> 2\u001b[1;33m \u001b[0mdata\u001b[0m \u001b[1;33m=\u001b[0m \u001b[0mpickle\u001b[0m\u001b[1;33m.\u001b[0m\u001b[0mload\u001b[0m\u001b[1;33m(\u001b[0m\u001b[0mpick_in\u001b[0m\u001b[1;33m)\u001b[0m \u001b[1;31m# load pick_in file\u001b[0m\u001b[1;33m\u001b[0m\u001b[1;33m\u001b[0m\u001b[0m\n\u001b[0m\u001b[0;32m      3\u001b[0m \u001b[0mpick_in\u001b[0m\u001b[1;33m.\u001b[0m\u001b[0mclose\u001b[0m\u001b[1;33m(\u001b[0m\u001b[1;33m)\u001b[0m\u001b[1;33m\u001b[0m\u001b[1;33m\u001b[0m\u001b[0m\n",
      "\u001b[1;31mEOFError\u001b[0m: Ran out of input"
     ]
    }
   ],
   "source": [
    "pick_in = open('data.pickle','rb') # read pickle file\n",
    "data = pickle.load(pick_in) # load pick_in file\n",
    "pick_in.close()"
   ]
  },
  {
   "cell_type": "code",
   "execution_count": 3,
   "metadata": {},
   "outputs": [
    {
     "ename": "NameError",
     "evalue": "name 'data' is not defined",
     "output_type": "error",
     "traceback": [
      "\u001b[1;31m---------------------------------------------------------------------------\u001b[0m",
      "\u001b[1;31mNameError\u001b[0m                                 Traceback (most recent call last)",
      "\u001b[1;32m<ipython-input-3-22198b941b90>\u001b[0m in \u001b[0;36m<module>\u001b[1;34m\u001b[0m\n\u001b[0;32m      1\u001b[0m \u001b[1;31m### SHUFFLE DATA\u001b[0m\u001b[1;33m\u001b[0m\u001b[1;33m\u001b[0m\u001b[1;33m\u001b[0m\u001b[0m\n\u001b[0;32m      2\u001b[0m \u001b[1;31m#takes a long time\u001b[0m\u001b[1;33m\u001b[0m\u001b[1;33m\u001b[0m\u001b[1;33m\u001b[0m\u001b[0m\n\u001b[1;32m----> 3\u001b[1;33m \u001b[0mrandom\u001b[0m\u001b[1;33m.\u001b[0m\u001b[0mshuffle\u001b[0m\u001b[1;33m(\u001b[0m\u001b[0mdata\u001b[0m\u001b[1;33m)\u001b[0m\u001b[1;33m\u001b[0m\u001b[1;33m\u001b[0m\u001b[0m\n\u001b[0m\u001b[0;32m      4\u001b[0m \u001b[0mfeatures\u001b[0m \u001b[1;33m=\u001b[0m \u001b[1;33m[\u001b[0m\u001b[1;33m]\u001b[0m\u001b[1;33m\u001b[0m\u001b[1;33m\u001b[0m\u001b[0m\n\u001b[0;32m      5\u001b[0m \u001b[0mlabels\u001b[0m \u001b[1;33m=\u001b[0m \u001b[1;33m[\u001b[0m\u001b[1;33m]\u001b[0m\u001b[1;33m\u001b[0m\u001b[1;33m\u001b[0m\u001b[0m\n",
      "\u001b[1;31mNameError\u001b[0m: name 'data' is not defined"
     ]
    }
   ],
   "source": [
    "### SHUFFLE DATA\n",
    "#takes a long time\n",
    "random.shuffle(data)\n",
    "features = []\n",
    "labels = []\n",
    "\n",
    "for feature, label in data:\n",
    "    features.append(feature)\n",
    "    labels.append(label)\n",
    "    \n",
    "### SPLIT DATA INTO TRAIN AND TEST SET\n",
    "xtrain, xtest, ytrain, ytest = train_test_split(features,labels,test_size=0.25) #test size is 25% from dataset"
   ]
  },
  {
   "cell_type": "code",
   "execution_count": null,
   "metadata": {},
   "outputs": [],
   "source": [
    "### FIND BEST K\n",
    "## try K=1 through K=25 and record testing accuracy\n",
    "k_range = range(1, 26)\n",
    "\n",
    "# We can create Python dictionary using [] or dict()\n",
    "scores = []\n",
    "\n",
    "# We use a loop through the range 1 to 26\n",
    "# We append the scores in the dictionary\n",
    "for k in k_range:\n",
    "    knn = KNeighborsClassifier(n_neighbors=k)\n",
    "    knn.fit(xtrain, ytrain)\n",
    "    ypred = knn.predict(xtest)\n",
    "    scores.append(metrics.accuracy_score(ytest, ypred))\n",
    "\n",
    "print(scores)\n",
    "\n",
    "# plot the relationship between K and testing accuracy\n",
    "# plt.plot(x_axis, y_axis)\n",
    "plt.plot(k_range, scores)\n",
    "plt.xlabel('Value of K for KNN')\n",
    "plt.ylabel('Testing Accuracy')"
   ]
  },
  {
   "cell_type": "code",
   "execution_count": null,
   "metadata": {},
   "outputs": [],
   "source": [
    "### CREATE KNN MODEL\n",
    "# instantiate the model with the best known parameters\n",
    "knn = KNeighborsClassifier(n_neighbors=21) ### input best k in the n_neighbors\n",
    "knn.fit(xtrain, ytrain)"
   ]
  },
  {
   "cell_type": "code",
   "execution_count": null,
   "metadata": {},
   "outputs": [],
   "source": [
    "### CREATE SIMLPE SVM POLY MODEL\n",
    "svm = SVC(C=1,kernel='poly',gamma='auto')\n",
    "svm.fit(xtrain,ytrain) # give features and labels to train the model\n",
    "\n",
    "### CREATE SVM RBF MODEL\n",
    "svm_rbf = SVC(C=1,kernel='rbf',gamma='auto')\n",
    "svm_rbf.fit(xtrain,ytrain) # give features and labels to train the model"
   ]
  },
  {
   "cell_type": "code",
   "execution_count": null,
   "metadata": {},
   "outputs": [],
   "source": [
    "### CREATE Simple Naive Bayes Model\n",
    "#Import Gaussian Naive Bayes model\n",
    "from sklearn.naive_bayes import GaussianNB\n",
    "\n",
    "#Create a Gaussian Classifier\n",
    "gnb = GaussianNB()\n",
    "\n",
    "#Train the model using the training sets\n",
    "nb = gnb.fit(xtrain, ytrain)\n",
    "\n",
    "#Predict the response for test dataset\n",
    "ypred = nb.predict(xtest)\n",
    "\n",
    "#Accuracy\n",
    "print(\"Accuracy:\",metrics.accuracy_score(ytest, ypred))"
   ]
  },
  {
   "cell_type": "code",
   "execution_count": null,
   "metadata": {},
   "outputs": [],
   "source": [
    "### SAVE THE MODEL\n",
    "### save the model first, bcs it'll take a long time\n",
    "\n",
    "### SVM MODEL\n",
    "pick = open('svm_model.sav','wb')\n",
    "pickle.dump(svm,pick)\n",
    "pick.close()\n",
    "\n",
    "### SVM RBF BASED KERNEL\n",
    "pick = open('svm_rbf_model.sav','wb')\n",
    "pickle.dump(svm_rbf,pick)\n",
    "pick.close()\n",
    "\n",
    "### KNN MODEL\n",
    "pick = open('knn_model.sav','wb')\n",
    "pickle.dump(knn,pick)\n",
    "pick.close()\n",
    "\n",
    "### Save Naive Bayes MODEL\n",
    "pick = open('nb_model.sav','wb')\n",
    "pickle.dump(nb,pick)\n",
    "pick.close()"
   ]
  },
  {
   "cell_type": "code",
   "execution_count": 6,
   "metadata": {},
   "outputs": [],
   "source": [
    "###to use the model\n",
    "pick = open('svm_model.sav','rb')\n",
    "svm = pickle.load(pick)\n",
    "pick.close()\n",
    "\n",
    "pick = open('svm_rbf_model.sav','rb')\n",
    "svm_rbf = pickle.load(pick)\n",
    "pick.close()\n",
    "\n",
    "pick = open('knn_model.sav','rb')\n",
    "knn = pickle.load(pick)\n",
    "pick.close()\n",
    "\n",
    "pick = open('nb_model.sav','rb')\n",
    "nb = pickle.load(pick)\n",
    "pick.close()"
   ]
  },
  {
   "cell_type": "code",
   "execution_count": 8,
   "metadata": {},
   "outputs": [],
   "source": [
    "### TESTING SVM MODEL\n",
    "svm_prediction = svm.predict(xtest)\n",
    "svm_accuracy = svm.score(xtest,ytest)\n",
    "svm_precision = precision_score(ytest,svm_prediction)\n",
    "svm_recall = recall_score(ytest,svm_prediction)\n",
    "svm_f1_metric = f1_score(ytest,svm_prediction)\n",
    "\n",
    "### TESTING SVM RBF BASED KERNEL\n",
    "svm_rbf_prediction = svm_rbf.predict(xtest)\n",
    "svm_rbf_accuracy = svm_rbf.score(xtest,ytest)\n",
    "svm_rbf_precision = precision_score(ytest,svm_rbf_prediction)\n",
    "svm_rbf_recall = recall_score(ytest,svm_rbf_prediction)\n",
    "svm_rbf_f1_metric = f1_score(ytest,svm_rbf_prediction)\n",
    "\n",
    "### TESTING KNN MODEL\n",
    "knn_prediction = knn.predict(xtest)\n",
    "knn_accuracy = knn.score(xtest,ytest)\n",
    "knn_precision = precision_score(ytest, knn_prediction)\n",
    "knn_recall = recall_score(ytest, knn_prediction)\n",
    "knn_f1_metric = f1_score(ytest,knn_prediction)\n",
    "\n",
    "### TESTING NB MODEL\n",
    "nb_prediction = nb.predict(xtest)\n",
    "nb_accuracy = nb.score(xtest,ytest)\n",
    "nb_precision = precision_score(ytest,nb_prediction)\n",
    "nb_recall = recall_score(ytest,nb_prediction)\n",
    "nb_f1_metric = f1_score(ytest,nb_prediction)"
   ]
  },
  {
   "cell_type": "code",
   "execution_count": 9,
   "metadata": {},
   "outputs": [
    {
     "name": "stdout",
     "output_type": "stream",
     "text": [
      "╒═══════════════╤═══════╤═══════════╤═══════╤═══════╕\n",
      "│ Performance   │ SVM   │ SVM-RBF   │ KNN   │ NB    │\n",
      "╞═══════════════╪═══════╪═══════════╪═══════╪═══════╡\n",
      "│ Accuracy      │ 0.908 │ 0.906     │ 0.665 │ 0.62  │\n",
      "├───────────────┼───────┼───────────┼───────┼───────┤\n",
      "│ Precision     │ 0.931 │ 0.868     │ 0.695 │ 0.728 │\n",
      "├───────────────┼───────┼───────────┼───────┼───────┤\n",
      "│ Recall        │ 0.919 │ 1.0       │ 0.816 │ 0.615 │\n",
      "├───────────────┼───────┼───────────┼───────┼───────┤\n",
      "│ F1 Measure    │ 0.925 │ 0.929     │ 0.751 │ 0.667 │\n",
      "├───────────────┼───────┼───────────┼───────┼───────┤\n",
      "│ Prediction    │ R     │ R         │ R     │ R     │\n",
      "╘═══════════════╧═══════╧═══════════╧═══════╧═══════╛\n"
     ]
    },
    {
     "data": {
      "image/png": "[encoded data removed]",
      "text/plain": [
       "<Figure size 432x288 with 1 Axes>"
      ]
     },
     "metadata": {
      "needs_background": "light"
     },
     "output_type": "display_data"
    }
   ],
   "source": [
    "### PRINT PERFROMANCE EVALUATION\n",
    "categories = ['O','R']\n",
    "data = [['Performance','SVM','SVM-RBF','KNN','NB'],\n",
    "        [\"Accuracy\",round(svm_accuracy,3),round(svm_rbf_accuracy,3),round(knn_accuracy,3),round(nb_accuracy,3)],\n",
    "        [\"Precision\",round(svm_precision,3),round(svm_rbf_precision,3),round(knn_precision,3),round(nb_precision,3)],\n",
    "        [\"Recall\",round(svm_recall,3),round(svm_rbf_recall,3),round(knn_recall,3),round(nb_recall,3)],\n",
    "        [\"F1 Measure\",round(svm_f1_metric,3),round(svm_rbf_f1_metric,3),round(knn_f1_metric,3),round(nb_f1_metric,3)],\n",
    "        [\"Prediction\",categories[svm_prediction[0]],categories[svm_rbf_prediction[0]],categories[knn_prediction[0]],categories[nb_prediction[0]]]]\n",
    "\n",
    "print(tabulate(data, headers='firstrow',tablefmt='fancy_grid'))\n",
    "\n",
    "### SHOW PREDICTION\n",
    "waste_classified = xtest[0].reshape(50,50) \n",
    "plt.imshow(waste_classified,cmap='gray')\n",
    "plt.show()"
   ]
  },
  {
   "cell_type": "code",
   "execution_count": 17,
   "metadata": {},
   "outputs": [
    {
     "name": "stdout",
     "output_type": "stream",
     "text": [
      "SVM Prediction is  R\n",
      "SVM-RBF Prediction is  R\n",
      "KNN Prediction is  R\n",
      "NB Prediction is  O\n"
     ]
    },
    {
     "data": {
      "image/png": "[encoded data removed]",
      "text/plain": [
       "<Figure size 432x288 with 1 Axes>"
      ]
     },
     "metadata": {
      "needs_background": "light"
     },
     "output_type": "display_data"
    }
   ],
   "source": [
    "categories = ['O','R']\n",
    "\n",
    "#Predict another picture\n",
    "imgpath = \"C:\\\\Users\\\\User10\\\\Desktop\\\\BITU 3973 PSM 1\\\\Waste Classification Using Instance-Based Algorithm\\\\download.jpg\"\n",
    "\n",
    "waste_image = cv2.imread(imgpath,0) # value 0 is to turn image into grayscale\n",
    "\n",
    "try:\n",
    "    waste_image = cv2.resize(waste_image,(50,50)) # make all images same size\n",
    "    test_image = np.array(waste_image).flatten() # make full image single area\n",
    "except Exception as e:\n",
    "    pass\n",
    "\n",
    "svm_prediction = svm.predict(test_image.reshape(1,-1))\n",
    "svm_rbf_prediction = svm_rbf.predict(test_image.reshape(1,-1))\n",
    "knn_prediction = knn.predict(test_image.reshape(1,-1))\n",
    "nb_prediction = nb.predict(test_image.reshape(1,-1))\n",
    "\n",
    "### SHOW PREDICTION\n",
    "plt.imshow(waste_image)\n",
    "\n",
    "### Print prediction\n",
    "print('SVM Prediction is ',categories[svm_prediction[0]])\n",
    "print('SVM-RBF Prediction is ',categories[svm_rbf_prediction[0]])\n",
    "print('KNN Prediction is ',categories[knn_prediction[0]])\n",
    "print('NB Prediction is ',categories[nb_prediction[0]])"
   ]
  },
  {
   "cell_type": "code",
   "execution_count": null,
   "metadata": {},
   "outputs": [],
   "source": []
  }
 ],
 "metadata": {
  "kernelspec": {
   "display_name": "Python 3",
   "language": "python",
   "name": "python3"
  },
  "language_info": {
   "codemirror_mode": {
    "name": "ipython",
    "version": 3
   },
   "file_extension": ".py",
   "mimetype": "text/x-python",
   "name": "python",
   "nbconvert_exporter": "python",
   "pygments_lexer": "ipython3",
   "version": "3.7.4"
  }
 },
 "nbformat": 4,
 "nbformat_minor": 2
}
